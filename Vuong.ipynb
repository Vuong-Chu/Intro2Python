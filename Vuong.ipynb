{
 "cells": [
  {
   "cell_type": "markdown",
   "id": "b8afd3c5",
   "metadata": {},
   "source": [
    "# Lecture. Intro to Python\n",
    "\n",
    "This is some simple code in Python.\n",
    "\n",
    "### 1. Variables"
   ]
  },
  {
   "cell_type": "code",
   "execution_count": 1,
   "id": "a2b821d1",
   "metadata": {},
   "outputs": [
    {
     "name": "stdout",
     "output_type": "stream",
     "text": [
      "2\n"
     ]
    }
   ],
   "source": [
    "x = 2\n",
    "\n",
    "print(x)"
   ]
  },
  {
   "cell_type": "code",
   "execution_count": 2,
   "id": "e9a85e39",
   "metadata": {},
   "outputs": [],
   "source": [
    "y = 3"
   ]
  },
  {
   "cell_type": "code",
   "execution_count": 3,
   "id": "d5b93f92",
   "metadata": {},
   "outputs": [
    {
     "name": "stdout",
     "output_type": "stream",
     "text": [
      "5\n"
     ]
    }
   ],
   "source": [
    "print(x+y)"
   ]
  },
  {
   "cell_type": "markdown",
   "id": "58062a7b",
   "metadata": {},
   "source": [
    "### 2. Operators\n",
    "\n",
    "#### Arithmetic Operators\n",
    "\n",
    "| Symbol | Task Performed |\n",
    "|--------|----------------|\n",
    "| + | Addition |\n",
    "| * | Multiplication |\n",
    "| / | Division |\n",
    "| - | Substraction |\n"
   ]
  },
  {
   "cell_type": "code",
   "execution_count": 4,
   "id": "cb20b7f4",
   "metadata": {},
   "outputs": [
    {
     "name": "stdout",
     "output_type": "stream",
     "text": [
      "3\n",
      "2\n",
      "0.5\n",
      "-1\n"
     ]
    }
   ],
   "source": [
    "print(1 + 2)\n",
    "\n",
    "print(1 * 2)\n",
    "\n",
    "print(1/2)\n",
    "\n",
    "print(1 - 2)"
   ]
  },
  {
   "cell_type": "markdown",
   "id": "84891cc9",
   "metadata": {},
   "source": [
    "$$\n",
    "2^{2} = 4 \\\\\n",
    "3^{2} = 9 \\\\\n",
    "4^{2} = 16 \\\\\n",
    "$$"
   ]
  },
  {
   "cell_type": "code",
   "execution_count": 5,
   "id": "90cb1e1d",
   "metadata": {},
   "outputs": [
    {
     "name": "stdout",
     "output_type": "stream",
     "text": [
      "4\n",
      "9\n",
      "16\n"
     ]
    },
    {
     "data": {
      "text/plain": [
       "16"
      ]
     },
     "execution_count": 5,
     "metadata": {},
     "output_type": "execute_result"
    }
   ],
   "source": [
    "print(2**2)\n",
    "\n",
    "print(3**2)\n",
    "\n",
    "print(4**2)\n",
    "\n",
    "pow(4,2)"
   ]
  },
  {
   "cell_type": "markdown",
   "id": "2db4cb66",
   "metadata": {},
   "source": [
    "Modulur is to calculate the remainder of a division betweeen two numbers.\n",
    "\n",
    "\n",
    "3/2 = 1 and remainder = 1.\n",
    "\n",
    "5/2 = 2 and remainder = 1.\n",
    "\n",
    "13/10 = 1 and remainder = 3."
   ]
  },
  {
   "cell_type": "code",
   "execution_count": 6,
   "id": "101ef000",
   "metadata": {},
   "outputs": [
    {
     "name": "stdout",
     "output_type": "stream",
     "text": [
      "0\n",
      "1\n",
      "1\n",
      "3\n"
     ]
    },
    {
     "data": {
      "text/plain": [
       "(1, 3)"
      ]
     },
     "execution_count": 6,
     "metadata": {},
     "output_type": "execute_result"
    }
   ],
   "source": [
    "print(2%2)\n",
    "print(3%2)\n",
    "print(5%2)\n",
    "print(13%10)\n",
    "\n",
    "divmod(13,10)"
   ]
  },
  {
   "cell_type": "code",
   "execution_count": 7,
   "id": "d034f729",
   "metadata": {},
   "outputs": [
    {
     "name": "stdout",
     "output_type": "stream",
     "text": [
      "1.0\n",
      "2.0\n"
     ]
    }
   ],
   "source": [
    "print(2.5//2)\n",
    "print(5.8//2)"
   ]
  },
  {
   "cell_type": "markdown",
   "id": "8774e712",
   "metadata": {},
   "source": [
    "#### Relational Operators"
   ]
  },
  {
   "cell_type": "code",
   "execution_count": 8,
   "id": "37881a3e",
   "metadata": {},
   "outputs": [
    {
     "name": "stdout",
     "output_type": "stream",
     "text": [
      "False\n",
      "True\n",
      "True\n",
      "False\n"
     ]
    }
   ],
   "source": [
    "print(1==2)\n",
    "print(1!=2)\n",
    "print(1<2)\n",
    "print(1>2)"
   ]
  },
  {
   "cell_type": "markdown",
   "id": "2d1e8971",
   "metadata": {},
   "source": [
    "#### Print"
   ]
  },
  {
   "cell_type": "code",
   "execution_count": 9,
   "id": "e5ab116c",
   "metadata": {},
   "outputs": [
    {
     "name": "stdout",
     "output_type": "stream",
     "text": [
      "Hello, Debra!\n"
     ]
    }
   ],
   "source": [
    "print(\"Hello, Debra!\")"
   ]
  },
  {
   "cell_type": "code",
   "execution_count": 10,
   "id": "bd4bf5b3",
   "metadata": {},
   "outputs": [
    {
     "name": "stdout",
     "output_type": "stream",
     "text": [
      "Hello, Debra!\n"
     ]
    }
   ],
   "source": [
    "name = \"Debra!\"\n",
    "\n",
    "print(\"Hello, \" + name)"
   ]
  },
  {
   "cell_type": "code",
   "execution_count": 11,
   "id": "2529bd38",
   "metadata": {},
   "outputs": [
    {
     "name": "stdout",
     "output_type": "stream",
     "text": [
      "Debra!\n"
     ]
    }
   ],
   "source": [
    "print(\"%s\" % (name))"
   ]
  },
  {
   "cell_type": "code",
   "execution_count": 12,
   "id": "509e44e4",
   "metadata": {},
   "outputs": [
    {
     "name": "stdout",
     "output_type": "stream",
     "text": [
      "Hello, Debra!\n"
     ]
    }
   ],
   "source": [
    "print(\"{:s}, {:s}\".format(\"Hello\",name))"
   ]
  },
  {
   "cell_type": "code",
   "execution_count": 13,
   "id": "4bac0fd9",
   "metadata": {},
   "outputs": [
    {
     "name": "stdout",
     "output_type": "stream",
     "text": [
      "Hello, Debra!\n"
     ]
    }
   ],
   "source": [
    "print(\"%s, %s\" % (\"Hello\", name))"
   ]
  },
  {
   "cell_type": "markdown",
   "id": "448a0a92",
   "metadata": {},
   "source": [
    "### 3. Data Structures"
   ]
  },
  {
   "cell_type": "code",
   "execution_count": 14,
   "id": "134c0b8d",
   "metadata": {},
   "outputs": [
    {
     "name": "stdout",
     "output_type": "stream",
     "text": [
      "[1, 2, 3]\n"
     ]
    }
   ],
   "source": [
    "a = [1,2,3]\n",
    "\n",
    "print(a)"
   ]
  },
  {
   "cell_type": "code",
   "execution_count": 15,
   "id": "3824676c",
   "metadata": {},
   "outputs": [
    {
     "name": "stdout",
     "output_type": "stream",
     "text": [
      "['a', 'b', 'c']\n"
     ]
    }
   ],
   "source": [
    "b = [\"a\",\"b\",\"c\"]\n",
    "print(b)"
   ]
  },
  {
   "cell_type": "code",
   "execution_count": 16,
   "id": "fd118ff7",
   "metadata": {},
   "outputs": [
    {
     "name": "stdout",
     "output_type": "stream",
     "text": [
      "['apple', 'orange', 'banana']\n"
     ]
    }
   ],
   "source": [
    "x = ['apple', 'orange', 'banana']\n",
    "\n",
    "print(x)"
   ]
  },
  {
   "cell_type": "code",
   "execution_count": 17,
   "id": "54d5ea52",
   "metadata": {},
   "outputs": [
    {
     "data": {
      "text/plain": [
       "'orange'"
      ]
     },
     "execution_count": 17,
     "metadata": {},
     "output_type": "execute_result"
    }
   ],
   "source": [
    "x[1]"
   ]
  },
  {
   "cell_type": "code",
   "execution_count": 18,
   "id": "2f56eef3",
   "metadata": {},
   "outputs": [
    {
     "data": {
      "text/plain": [
       "'banana'"
      ]
     },
     "execution_count": 18,
     "metadata": {},
     "output_type": "execute_result"
    }
   ],
   "source": [
    "x[-1]"
   ]
  },
  {
   "cell_type": "code",
   "execution_count": 19,
   "id": "245b8412",
   "metadata": {},
   "outputs": [
    {
     "name": "stdout",
     "output_type": "stream",
     "text": [
      "[['a', 'b', 'c'], ['apple', 'orange', 'banana'], [1, 2, 3], 'Debra', 9999]\n"
     ]
    }
   ],
   "source": [
    "mix = [b,x,a,\"Debra\",9999]\n",
    "\n",
    "print(mix)"
   ]
  },
  {
   "cell_type": "code",
   "execution_count": 20,
   "id": "bd060498",
   "metadata": {},
   "outputs": [
    {
     "name": "stdout",
     "output_type": "stream",
     "text": [
      "apple\n"
     ]
    }
   ],
   "source": [
    "print(mix[1][0])"
   ]
  },
  {
   "cell_type": "code",
   "execution_count": 21,
   "id": "95ac2dce",
   "metadata": {},
   "outputs": [
    {
     "name": "stdout",
     "output_type": "stream",
     "text": [
      "Debra\n"
     ]
    }
   ],
   "source": [
    "print(mix[3])"
   ]
  },
  {
   "cell_type": "markdown",
   "id": "c5b49359",
   "metadata": {},
   "source": [
    "### Slicing"
   ]
  },
  {
   "cell_type": "code",
   "execution_count": 22,
   "id": "6cdcfb68",
   "metadata": {},
   "outputs": [],
   "source": [
    "num = [0,2,4,5,3,7,9]"
   ]
  },
  {
   "cell_type": "code",
   "execution_count": 23,
   "id": "c368515b",
   "metadata": {},
   "outputs": [
    {
     "name": "stdout",
     "output_type": "stream",
     "text": [
      "[0, 2, 4]\n",
      "[5, 3]\n",
      "[0, 2, 4, 5, 3, 7]\n",
      "[0, 4, 3]\n"
     ]
    }
   ],
   "source": [
    "print(num[0:3])\n",
    "\n",
    "print(num[3:5])\n",
    "\n",
    "print(num[:6])\n",
    "\n",
    "print(num[:6:2])"
   ]
  },
  {
   "cell_type": "code",
   "execution_count": 24,
   "id": "9eb97136",
   "metadata": {},
   "outputs": [
    {
     "data": {
      "text/plain": [
       "7"
      ]
     },
     "execution_count": 24,
     "metadata": {},
     "output_type": "execute_result"
    }
   ],
   "source": [
    "len(num)"
   ]
  },
  {
   "cell_type": "code",
   "execution_count": 25,
   "id": "451da859",
   "metadata": {},
   "outputs": [
    {
     "data": {
      "text/plain": [
       "0"
      ]
     },
     "execution_count": 25,
     "metadata": {},
     "output_type": "execute_result"
    }
   ],
   "source": [
    "min(num)"
   ]
  },
  {
   "cell_type": "code",
   "execution_count": 26,
   "id": "3900f05a",
   "metadata": {},
   "outputs": [
    {
     "data": {
      "text/plain": [
       "9"
      ]
     },
     "execution_count": 26,
     "metadata": {},
     "output_type": "execute_result"
    }
   ],
   "source": [
    "max(num)"
   ]
  },
  {
   "cell_type": "code",
   "execution_count": 27,
   "id": "2db4189d",
   "metadata": {},
   "outputs": [
    {
     "name": "stdout",
     "output_type": "stream",
     "text": [
      "[0, 2, 4, 5, 3, 7, 9, 99, 98, 97]\n"
     ]
    }
   ],
   "source": [
    "num2 = [99,98,97]\n",
    "\n",
    "print(num + num2)"
   ]
  },
  {
   "cell_type": "code",
   "execution_count": 28,
   "id": "ed3dfb2b",
   "metadata": {},
   "outputs": [],
   "source": [
    "x = ['apple', 'orange', 'banana', 'melon', 'coconut']"
   ]
  },
  {
   "cell_type": "code",
   "execution_count": 29,
   "id": "0223957c",
   "metadata": {},
   "outputs": [
    {
     "name": "stdout",
     "output_type": "stream",
     "text": [
      "True\n",
      "False\n"
     ]
    }
   ],
   "source": [
    "check1 = 'melon'\n",
    "\n",
    "check2 = 'mango'\n",
    "\n",
    "print(check1 in x)\n",
    "\n",
    "print(check2 in x)"
   ]
  },
  {
   "cell_type": "markdown",
   "id": "9698009d",
   "metadata": {},
   "source": [
    "### Append"
   ]
  },
  {
   "cell_type": "code",
   "execution_count": 30,
   "id": "f0908dcc",
   "metadata": {},
   "outputs": [
    {
     "name": "stdout",
     "output_type": "stream",
     "text": [
      "['apple', 'orange', 'banana', 'melon', 'coconut', 'strawberry']\n"
     ]
    }
   ],
   "source": [
    "x.append(\"strawberry\")\n",
    "\n",
    "print(x)"
   ]
  },
  {
   "cell_type": "code",
   "execution_count": 31,
   "id": "e375000e",
   "metadata": {},
   "outputs": [
    {
     "name": "stdout",
     "output_type": "stream",
     "text": [
      "['apple', 'orange', 'banana', 'melon', 'coconut', 'strawberry']\n",
      "['apple', 'orange', 'banana', 'melon', 'coconut', 'strawberry', [1, 2, 3]]\n"
     ]
    }
   ],
   "source": [
    "x1 = x.copy()\n",
    "print(x1)\n",
    "\n",
    "x1.append([1,2,3])\n",
    "print(x1)"
   ]
  },
  {
   "cell_type": "code",
   "execution_count": 32,
   "id": "793eb17a",
   "metadata": {},
   "outputs": [
    {
     "name": "stdout",
     "output_type": "stream",
     "text": [
      "['apple', 'orange', 'banana', 'melon', 'coconut', 'strawberry']\n",
      "['apple', 'orange', 'banana', 'melon', 'coconut', 'strawberry', 1, 2, 3]\n"
     ]
    }
   ],
   "source": [
    "x2 = x.copy()\n",
    "print(x2)\n",
    "\n",
    "x2.extend([1,2,3])\n",
    "print(x2)"
   ]
  },
  {
   "cell_type": "code",
   "execution_count": 33,
   "id": "339fa39d",
   "metadata": {},
   "outputs": [
    {
     "name": "stdout",
     "output_type": "stream",
     "text": [
      "['red_apple', 'orange', 'banana', 'melon', 'coconut', 'strawberry']\n",
      "['apple', 'orange', 'banana', 'melon', 'coconut', 'strawberry']\n"
     ]
    }
   ],
   "source": [
    "x1 = x.copy()\n",
    "\n",
    "x1[0] = \"red_apple\"\n",
    "\n",
    "print(x1)\n",
    "print(x)"
   ]
  },
  {
   "cell_type": "code",
   "execution_count": 34,
   "id": "b32e8639",
   "metadata": {},
   "outputs": [
    {
     "name": "stdout",
     "output_type": "stream",
     "text": [
      "['red_apple', 'orange', 'banana', 'melon', 'coconut', 'strawberry']\n",
      "['red_apple', 'orange', 'banana', 'melon', 'coconut', 'strawberry']\n"
     ]
    }
   ],
   "source": [
    "x1 = x\n",
    "\n",
    "x1[0] = \"red_apple\"\n",
    "\n",
    "print(x1)\n",
    "print(x)"
   ]
  },
  {
   "cell_type": "code",
   "execution_count": 35,
   "id": "bf11ab90",
   "metadata": {},
   "outputs": [
    {
     "name": "stdout",
     "output_type": "stream",
     "text": [
      "banana\n",
      "1\n",
      "4\n",
      "['red_apple', 'orange', 'banana', 'cucumber', 'melon', 'coconut', 'strawberry']\n",
      "['red_apple', 'orange', 'banana', 'cucumber', 'melon', 'strawberry']\n"
     ]
    }
   ],
   "source": [
    "print(x[2])\n",
    "\n",
    "print(x.index(\"orange\"))\n",
    "\n",
    "print(x.index(\"coconut\"))\n",
    "\n",
    "# print(x.index(\"tomato\")) #Error\n",
    "\n",
    "x.insert(3,\"cucumber\")\n",
    "\n",
    "print(x)\n",
    "\n",
    "x.remove(\"coconut\")\n",
    "\n",
    "print(x)"
   ]
  },
  {
   "cell_type": "code",
   "execution_count": 36,
   "id": "4c5c36fc",
   "metadata": {},
   "outputs": [
    {
     "name": "stdout",
     "output_type": "stream",
     "text": [
      "strawberry\n",
      "['red_apple', 'orange', 'banana', 'cucumber', 'melon']\n"
     ]
    }
   ],
   "source": [
    "print(x.pop())\n",
    "print(x)"
   ]
  },
  {
   "cell_type": "code",
   "execution_count": 37,
   "id": "e1b2bd2a",
   "metadata": {},
   "outputs": [
    {
     "name": "stdout",
     "output_type": "stream",
     "text": [
      "['melon', 'cucumber', 'banana', 'orange', 'red_apple']\n"
     ]
    }
   ],
   "source": [
    "x.reverse()\n",
    "print(x)"
   ]
  },
  {
   "cell_type": "code",
   "execution_count": 38,
   "id": "a01cfd98",
   "metadata": {},
   "outputs": [
    {
     "name": "stdout",
     "output_type": "stream",
     "text": [
      "['melon', 'banana', 'orange', 'red_apple']\n",
      "<class 'list'>\n"
     ]
    }
   ],
   "source": [
    "del(x[1])\n",
    "\n",
    "print(x)\n",
    "\n",
    "print(type(x))"
   ]
  },
  {
   "cell_type": "markdown",
   "id": "95878e5a",
   "metadata": {},
   "source": [
    "### 4. Built-in Function"
   ]
  },
  {
   "cell_type": "code",
   "execution_count": 39,
   "id": "86e76072",
   "metadata": {},
   "outputs": [],
   "source": [
    "set1 = set([1,2,3,4,5,6,6,2,3])\n",
    "\n",
    "set2 = set([2,3,6,7,4])"
   ]
  },
  {
   "cell_type": "code",
   "execution_count": 40,
   "id": "c450094f",
   "metadata": {},
   "outputs": [
    {
     "name": "stdout",
     "output_type": "stream",
     "text": [
      "{1, 2, 3, 4, 5, 6}\n",
      "{2, 3, 4, 6, 7}\n"
     ]
    }
   ],
   "source": [
    "print(set1)\n",
    "\n",
    "print(set2)"
   ]
  },
  {
   "cell_type": "code",
   "execution_count": 41,
   "id": "5bd9181b",
   "metadata": {},
   "outputs": [
    {
     "name": "stdout",
     "output_type": "stream",
     "text": [
      "{1, 5}\n"
     ]
    }
   ],
   "source": [
    "print(set1.difference(set2))"
   ]
  },
  {
   "cell_type": "code",
   "execution_count": 42,
   "id": "8e50da16",
   "metadata": {},
   "outputs": [
    {
     "name": "stdout",
     "output_type": "stream",
     "text": [
      "{7}\n"
     ]
    }
   ],
   "source": [
    "print(set2.difference(set1))"
   ]
  },
  {
   "cell_type": "code",
   "execution_count": 43,
   "id": "ddd20a83",
   "metadata": {},
   "outputs": [
    {
     "name": "stdout",
     "output_type": "stream",
     "text": [
      "{1, 2, 3, 4, 5, 6, 7}\n"
     ]
    }
   ],
   "source": [
    "print(set1.union(set2)) "
   ]
  },
  {
   "cell_type": "code",
   "execution_count": 44,
   "id": "4057c183",
   "metadata": {},
   "outputs": [
    {
     "name": "stdout",
     "output_type": "stream",
     "text": [
      "False\n"
     ]
    }
   ],
   "source": [
    "print(set1.issubset(set2))"
   ]
  },
  {
   "cell_type": "code",
   "execution_count": 45,
   "id": "a9567305",
   "metadata": {},
   "outputs": [
    {
     "name": "stdout",
     "output_type": "stream",
     "text": [
      "<class 'set'>\n",
      "{1, 2, 3}\n"
     ]
    }
   ],
   "source": [
    "set3 = {1,2,3,3}\n",
    "\n",
    "print(type(set3))\n",
    "\n",
    "print(set3)"
   ]
  },
  {
   "cell_type": "code",
   "execution_count": 46,
   "id": "72b39764",
   "metadata": {},
   "outputs": [
    {
     "name": "stdout",
     "output_type": "stream",
     "text": [
      "True\n",
      "True\n"
     ]
    }
   ],
   "source": [
    "print(set3.issubset(set1))\n",
    "\n",
    "print(set1.issuperset(set3))"
   ]
  },
  {
   "cell_type": "code",
   "execution_count": 47,
   "id": "b29512a4",
   "metadata": {},
   "outputs": [
    {
     "name": "stdout",
     "output_type": "stream",
     "text": [
      "{2, 3, 4, 6}\n"
     ]
    }
   ],
   "source": [
    "print(set2.intersection(set1))"
   ]
  },
  {
   "cell_type": "markdown",
   "id": "2d6c11e7",
   "metadata": {},
   "source": [
    "### 5. String"
   ]
  },
  {
   "cell_type": "code",
   "execution_count": 48,
   "id": "4ce83019",
   "metadata": {},
   "outputs": [
    {
     "name": "stdout",
     "output_type": "stream",
     "text": [
      "Debra\n",
      "Debra\n"
     ]
    }
   ],
   "source": [
    "name1 = \"Debra\"\n",
    "print(name1)\n",
    "\n",
    "name2 = 'Debra'\n",
    "print(name2)"
   ]
  },
  {
   "cell_type": "code",
   "execution_count": 49,
   "id": "040284df",
   "metadata": {},
   "outputs": [
    {
     "name": "stdout",
     "output_type": "stream",
     "text": [
      "Essex is a nice\n",
      "and great university\n",
      "\n",
      "in the UK.\n",
      "\n"
     ]
    }
   ],
   "source": [
    "long_string = \"\"\"Essex is a nice\n",
    "and great university\n",
    "\n",
    "in the UK.\n",
    "\"\"\"\n",
    "print(long_string)"
   ]
  },
  {
   "cell_type": "code",
   "execution_count": 50,
   "id": "055c84d2",
   "metadata": {},
   "outputs": [
    {
     "name": "stdout",
     "output_type": "stream",
     "text": [
      "<class 'str'>\n"
     ]
    }
   ],
   "source": [
    "print(type(name1))"
   ]
  },
  {
   "cell_type": "code",
   "execution_count": 51,
   "id": "7505fc64",
   "metadata": {},
   "outputs": [
    {
     "name": "stdout",
     "output_type": "stream",
     "text": [
      "De\n"
     ]
    }
   ],
   "source": [
    "print(name1[0:2])"
   ]
  },
  {
   "cell_type": "code",
   "execution_count": 52,
   "id": "7ef3abc6",
   "metadata": {},
   "outputs": [
    {
     "name": "stdout",
     "output_type": "stream",
     "text": [
      "De\n",
      "ra\n",
      "a\n"
     ]
    }
   ],
   "source": [
    "print(name1[:2])\n",
    "print(name1[3:])\n",
    "print(name1[-1])"
   ]
  },
  {
   "cell_type": "code",
   "execution_count": 53,
   "id": "daaef8f4",
   "metadata": {},
   "outputs": [],
   "source": [
    "long_string = \"\"\"Essex is a nice\n",
    "and great university\n",
    "\n",
    "in the UK.\n",
    "\"\"\""
   ]
  },
  {
   "cell_type": "code",
   "execution_count": 54,
   "id": "1f88661f",
   "metadata": {},
   "outputs": [
    {
     "name": "stdout",
     "output_type": "stream",
     "text": [
      "45\n",
      "6\n",
      "-1\n"
     ]
    }
   ],
   "source": [
    "print(long_string.find(\"UK\"))\n",
    "\n",
    "print(long_string.find(\"is\"))\n",
    "\n",
    "print(long_string.find(\"Uk\"))"
   ]
  },
  {
   "cell_type": "code",
   "execution_count": 55,
   "id": "dcd604d5",
   "metadata": {},
   "outputs": [
    {
     "name": "stdout",
     "output_type": "stream",
     "text": [
      "essex is a nice\n",
      "and great university\n",
      "\n",
      "in the uk.\n",
      "\n"
     ]
    }
   ],
   "source": [
    "print(long_string.lower())"
   ]
  },
  {
   "cell_type": "code",
   "execution_count": 56,
   "id": "1882933c",
   "metadata": {},
   "outputs": [
    {
     "name": "stdout",
     "output_type": "stream",
     "text": [
      "ESSEX IS A NICE\n",
      "AND GREAT UNIVERSITY\n",
      "\n",
      "IN THE UK.\n",
      "\n"
     ]
    }
   ],
   "source": [
    "print(long_string.upper())"
   ]
  },
  {
   "cell_type": "code",
   "execution_count": 57,
   "id": "54f0a94b",
   "metadata": {},
   "outputs": [
    {
     "name": "stdout",
     "output_type": "stream",
     "text": [
      "2\n"
     ]
    }
   ],
   "source": [
    "print(long_string.count('s',6))"
   ]
  },
  {
   "cell_type": "code",
   "execution_count": 58,
   "id": "ee3ab98f",
   "metadata": {},
   "outputs": [],
   "source": [
    "name = \"Debra\""
   ]
  },
  {
   "cell_type": "code",
   "execution_count": 59,
   "id": "d7cd9aef",
   "metadata": {},
   "outputs": [
    {
     "name": "stdout",
     "output_type": "stream",
     "text": [
      "                      Debra                       \n"
     ]
    }
   ],
   "source": [
    "print(name.center(50))"
   ]
  },
  {
   "cell_type": "code",
   "execution_count": 60,
   "id": "41f3944f",
   "metadata": {},
   "outputs": [
    {
     "name": "stdout",
     "output_type": "stream",
     "text": [
      "True\n",
      "False\n"
     ]
    }
   ],
   "source": [
    "print(name.endswith('a'))\n",
    "print(name.endswith('r'))"
   ]
  },
  {
   "cell_type": "code",
   "execution_count": 61,
   "id": "31967b86",
   "metadata": {},
   "outputs": [
    {
     "name": "stdout",
     "output_type": "stream",
     "text": [
      "                                Debra                                 \n"
     ]
    }
   ],
   "source": [
    "print(name.center(70))"
   ]
  },
  {
   "cell_type": "code",
   "execution_count": 62,
   "id": "7dcb3c2a",
   "metadata": {
    "scrolled": true
   },
   "outputs": [
    {
     "name": "stdout",
     "output_type": "stream",
     "text": [
      "Essex is a nice\n",
      "and great university\n",
      "\n",
      "in the uk.\n",
      "\n"
     ]
    }
   ],
   "source": [
    "print(long_string.capitalize())"
   ]
  },
  {
   "cell_type": "code",
   "execution_count": 63,
   "id": "83e21cb9",
   "metadata": {},
   "outputs": [
    {
     "name": "stdout",
     "output_type": "stream",
     "text": [
      "Debra\n"
     ]
    }
   ],
   "source": [
    "name = \"debra\"\n",
    "print(name.capitalize())"
   ]
  },
  {
   "cell_type": "markdown",
   "id": "9139da68",
   "metadata": {},
   "source": [
    "### 6. Dictionaries"
   ]
  },
  {
   "cell_type": "code",
   "execution_count": 64,
   "id": "52ef8e32",
   "metadata": {},
   "outputs": [],
   "source": [
    "dict1 = dict()"
   ]
  },
  {
   "cell_type": "code",
   "execution_count": 65,
   "id": "0ac57154",
   "metadata": {},
   "outputs": [
    {
     "name": "stdout",
     "output_type": "stream",
     "text": [
      "{'One': 'Number 1', 'Two': 'Number 2'}\n"
     ]
    }
   ],
   "source": [
    "dict1[\"One\"] = \"Number 1\"\n",
    "dict1[\"Two\"] = \"Number 2\"\n",
    "\n",
    "print(dict1)"
   ]
  },
  {
   "cell_type": "code",
   "execution_count": 66,
   "id": "5c73e1f7",
   "metadata": {},
   "outputs": [
    {
     "name": "stdout",
     "output_type": "stream",
     "text": [
      "{'One': 'Number 1', 'Two': 'Number 2', 'Three': 'Number 3', 'Dog': 'An animal'}\n"
     ]
    }
   ],
   "source": [
    "dict2 = {\"One\":\"Number 1\", \"Two\":\"Number 2\", \"Three\":\"Number 3\", \"Dog\":\"An animal\"}\n",
    "\n",
    "print(dict2)"
   ]
  },
  {
   "cell_type": "code",
   "execution_count": 67,
   "id": "d101b31b",
   "metadata": {},
   "outputs": [
    {
     "name": "stdout",
     "output_type": "stream",
     "text": [
      "{'One': 'Number 1', 'Two': 'Number 2', 'Three': 'Number 3', 'Cat': 'An animal'}\n"
     ]
    }
   ],
   "source": [
    "keywords = [\"One\", \"Two\", \"Three\", \"Cat\"]\n",
    "contents = [\"Number 1\", \"Number 2\", \"Number 3\", \"An animal\"]\n",
    "\n",
    "dict3 = dict(zip(keywords,contents))\n",
    "\n",
    "print(dict3)"
   ]
  },
  {
   "cell_type": "code",
   "execution_count": 68,
   "id": "9c406a87",
   "metadata": {},
   "outputs": [
    {
     "name": "stdout",
     "output_type": "stream",
     "text": [
      "An animal\n",
      "Number 1\n"
     ]
    }
   ],
   "source": [
    "print(dict3[\"Cat\"])\n",
    "\n",
    "print(dict3[\"One\"])"
   ]
  },
  {
   "cell_type": "code",
   "execution_count": 69,
   "id": "eaf035b6",
   "metadata": {},
   "outputs": [
    {
     "name": "stdout",
     "output_type": "stream",
     "text": [
      "{'One': 'Number 1', 'Two': 2, 'Three': 'Number 3', 'Cat': 'An animal'}\n"
     ]
    }
   ],
   "source": [
    "dict3[\"Two\"] = 2\n",
    "\n",
    "print(dict3)"
   ]
  },
  {
   "cell_type": "markdown",
   "id": "3a26d9e4",
   "metadata": {},
   "source": [
    "### 7. Control Flow Statements"
   ]
  },
  {
   "cell_type": "code",
   "execution_count": 70,
   "id": "5308e147",
   "metadata": {},
   "outputs": [
    {
     "name": "stdout",
     "output_type": "stream",
     "text": [
      "y is equal or smaller than x\n"
     ]
    }
   ],
   "source": [
    "x = 3\n",
    "y = 2\n",
    "\n",
    "if(x<y):\n",
    "    print(\"x is smaller than y\")\n",
    "else:\n",
    "    print(\"y is equal or smaller than x\")"
   ]
  },
  {
   "cell_type": "code",
   "execution_count": 71,
   "id": "4806681b",
   "metadata": {},
   "outputs": [
    {
     "name": "stdout",
     "output_type": "stream",
     "text": [
      "x is equal y and smaller than 5\n"
     ]
    }
   ],
   "source": [
    "x = 3\n",
    "y = 3\n",
    "\n",
    "if(x<y):\n",
    "    print(\"x is smaller than y\")\n",
    "elif(x==y):\n",
    "    if(x<5):\n",
    "        print(\"x is equal y and smaller than 5\")\n",
    "    else:\n",
    "        print(\"x is equal y and larger than 5\")\n",
    "else:\n",
    "    print(\"y is smaller than x\")"
   ]
  },
  {
   "cell_type": "markdown",
   "id": "6ba1d00a",
   "metadata": {},
   "source": [
    "### 8. Loops"
   ]
  },
  {
   "cell_type": "code",
   "execution_count": 72,
   "id": "c83d4b6a",
   "metadata": {},
   "outputs": [
    {
     "name": "stdout",
     "output_type": "stream",
     "text": [
      "0\n",
      "1\n",
      "2\n",
      "3\n",
      "4\n"
     ]
    }
   ],
   "source": [
    "for i in range(5):\n",
    "    print(i)"
   ]
  },
  {
   "cell_type": "code",
   "execution_count": 73,
   "id": "f036de92",
   "metadata": {},
   "outputs": [
    {
     "name": "stdout",
     "output_type": "stream",
     "text": [
      "[['a', 'b', 'c'], 3, [1, 2, 3], 'Debra', 9999]\n"
     ]
    }
   ],
   "source": [
    "mix = [b,x,a,\"Debra\",9999]\n",
    "\n",
    "print(mix)"
   ]
  },
  {
   "cell_type": "code",
   "execution_count": 74,
   "id": "cc0c8c84",
   "metadata": {},
   "outputs": [
    {
     "name": "stdout",
     "output_type": "stream",
     "text": [
      "['a', 'b', 'c']\n",
      "3\n",
      "[1, 2, 3]\n",
      "Debra\n",
      "9999\n"
     ]
    }
   ],
   "source": [
    "for i in mix:\n",
    "    print(i)"
   ]
  },
  {
   "cell_type": "code",
   "execution_count": 75,
   "id": "c47e0ddd",
   "metadata": {},
   "outputs": [
    {
     "name": "stdout",
     "output_type": "stream",
     "text": [
      "[1, 2, 3]\n",
      "1\n",
      "2\n",
      "3\n",
      "['a--', 'b--']\n",
      "a--\n",
      "b--\n",
      "['Debra']\n",
      "Debra\n"
     ]
    }
   ],
   "source": [
    "list1 = [[1,2,3],[\"a--\",\"b--\"],[\"Debra\"]]\n",
    "\n",
    "for sublists in list1:\n",
    "    print(sublists)\n",
    "    for values in sublists:\n",
    "        print(values)"
   ]
  },
  {
   "cell_type": "code",
   "execution_count": 76,
   "id": "c4dc9c96",
   "metadata": {},
   "outputs": [],
   "source": [
    "list2 = [[1,2,3],[4,5,6]]"
   ]
  },
  {
   "cell_type": "code",
   "execution_count": 77,
   "id": "83969b68",
   "metadata": {},
   "outputs": [],
   "source": [
    "#Print out all values inside the list2"
   ]
  },
  {
   "cell_type": "code",
   "execution_count": 78,
   "id": "9897f5f4",
   "metadata": {},
   "outputs": [
    {
     "name": "stdout",
     "output_type": "stream",
     "text": [
      "1\n",
      "3\n",
      "5\n",
      "7\n",
      "9\n"
     ]
    }
   ],
   "source": [
    "i = 1\n",
    "while i<=10:\n",
    "    print(i)\n",
    "    i = i+2"
   ]
  },
  {
   "cell_type": "code",
   "execution_count": 79,
   "id": "4d752823",
   "metadata": {},
   "outputs": [],
   "source": [
    "#Print out all even values in the range from 0 to 100, using While loop"
   ]
  },
  {
   "cell_type": "code",
   "execution_count": 80,
   "id": "97f2c575",
   "metadata": {},
   "outputs": [
    {
     "name": "stdout",
     "output_type": "stream",
     "text": [
      "1\n",
      "Essex\n",
      "3\n"
     ]
    }
   ],
   "source": [
    "i = 1\n",
    "while i<=10:\n",
    "    print(i)\n",
    "    i = i+2\n",
    "    if i == 5:\n",
    "        break\n",
    "    else:\n",
    "        print(\"Essex\")"
   ]
  },
  {
   "cell_type": "code",
   "execution_count": 81,
   "id": "5a9fae8c",
   "metadata": {},
   "outputs": [
    {
     "name": "stdout",
     "output_type": "stream",
     "text": [
      "1\n",
      "Essex\n",
      "2\n",
      "Essex\n",
      "3\n"
     ]
    }
   ],
   "source": [
    "i = 1\n",
    "while i<=10:\n",
    "    print(i)\n",
    "    if i == 3:\n",
    "        break\n",
    "    else:\n",
    "        print(\"Essex\")\n",
    "    i = i+1"
   ]
  },
  {
   "cell_type": "markdown",
   "id": "47b0e063",
   "metadata": {},
   "source": [
    "### 9. List Comprehensions"
   ]
  },
  {
   "cell_type": "code",
   "execution_count": 82,
   "id": "ec934c8c",
   "metadata": {},
   "outputs": [
    {
     "name": "stdout",
     "output_type": "stream",
     "text": [
      "[0, 1, 2, 3, 4, 5, 6, 7, 8, 9]\n"
     ]
    }
   ],
   "source": [
    "x = []\n",
    "\n",
    "for i in range(10):\n",
    "    x.append(i)\n",
    "print(x)"
   ]
  },
  {
   "cell_type": "code",
   "execution_count": 83,
   "id": "2266f22c",
   "metadata": {},
   "outputs": [
    {
     "name": "stdout",
     "output_type": "stream",
     "text": [
      "[0, 1, 2, 3, 4, 5, 6, 7, 8, 9]\n"
     ]
    }
   ],
   "source": [
    "x = [i for i in range(10)]\n",
    "\n",
    "print(x)"
   ]
  },
  {
   "cell_type": "markdown",
   "id": "70fe68dd",
   "metadata": {},
   "source": [
    "### 10. Functions"
   ]
  },
  {
   "cell_type": "code",
   "execution_count": 84,
   "id": "77af1f47",
   "metadata": {},
   "outputs": [],
   "source": [
    "def function(x):\n",
    "    if x%2==0:\n",
    "        print(x,\"is even number\")\n",
    "    else:\n",
    "        print(x,\"is odd number\")"
   ]
  },
  {
   "cell_type": "code",
   "execution_count": 85,
   "id": "987194b3",
   "metadata": {},
   "outputs": [
    {
     "name": "stdout",
     "output_type": "stream",
     "text": [
      "0 is even number\n",
      "1 is odd number\n",
      "2 is even number\n",
      "3 is odd number\n",
      "4 is even number\n",
      "5 is odd number\n",
      "6 is even number\n",
      "7 is odd number\n",
      "8 is even number\n",
      "9 is odd number\n"
     ]
    }
   ],
   "source": [
    "for i in range(10):\n",
    "    function(i)"
   ]
  },
  {
   "cell_type": "code",
   "execution_count": 86,
   "id": "6fd5608a",
   "metadata": {},
   "outputs": [],
   "source": [
    "def add(x, y=1):\n",
    "    return x + y"
   ]
  },
  {
   "cell_type": "code",
   "execution_count": 87,
   "id": "1850ba7f",
   "metadata": {},
   "outputs": [
    {
     "name": "stdout",
     "output_type": "stream",
     "text": [
      "5\n"
     ]
    }
   ],
   "source": [
    "z = add(2,3)\n",
    "\n",
    "print(z)"
   ]
  },
  {
   "cell_type": "code",
   "execution_count": 88,
   "id": "e173d0ef",
   "metadata": {},
   "outputs": [
    {
     "name": "stdout",
     "output_type": "stream",
     "text": [
      "3\n"
     ]
    }
   ],
   "source": [
    "z2 = add(2)\n",
    "\n",
    "print(z2)"
   ]
  },
  {
   "cell_type": "code",
   "execution_count": 89,
   "id": "2a67d16a",
   "metadata": {},
   "outputs": [],
   "source": [
    "def add_p(x, y):\n",
    "    print(x + y)"
   ]
  },
  {
   "cell_type": "code",
   "execution_count": 90,
   "id": "9c280926",
   "metadata": {},
   "outputs": [
    {
     "name": "stdout",
     "output_type": "stream",
     "text": [
      "5\n",
      "None\n"
     ]
    }
   ],
   "source": [
    "a = add_p(2,3)\n",
    "\n",
    "print(a)"
   ]
  },
  {
   "cell_type": "markdown",
   "id": "695a46d1",
   "metadata": {},
   "source": [
    "### 11. Matplotlib"
   ]
  },
  {
   "cell_type": "code",
   "execution_count": 91,
   "id": "6431a1f4",
   "metadata": {},
   "outputs": [
    {
     "name": "stdout",
     "output_type": "stream",
     "text": [
      "Requirement already satisfied: matplotlib in /home/vuongchu/anaconda3/lib/python3.8/site-packages (3.3.4)\r\n",
      "Requirement already satisfied: cycler>=0.10 in /home/vuongchu/anaconda3/lib/python3.8/site-packages (from matplotlib) (0.10.0)\r\n",
      "Requirement already satisfied: numpy>=1.15 in /home/vuongchu/anaconda3/lib/python3.8/site-packages (from matplotlib) (1.20.3)\r\n",
      "Requirement already satisfied: python-dateutil>=2.1 in /home/vuongchu/anaconda3/lib/python3.8/site-packages (from matplotlib) (2.8.2)\r\n",
      "Requirement already satisfied: pyparsing!=2.0.4,!=2.1.2,!=2.1.6,>=2.0.3 in /home/vuongchu/anaconda3/lib/python3.8/site-packages (from matplotlib) (2.4.7)\r\n",
      "Requirement already satisfied: pillow>=6.2.0 in /home/vuongchu/anaconda3/lib/python3.8/site-packages (from matplotlib) (8.3.1)\r\n",
      "Requirement already satisfied: kiwisolver>=1.0.1 in /home/vuongchu/anaconda3/lib/python3.8/site-packages (from matplotlib) (1.3.1)\r\n",
      "Requirement already satisfied: six in /home/vuongchu/anaconda3/lib/python3.8/site-packages (from cycler>=0.10->matplotlib) (1.16.0)\r\n"
     ]
    }
   ],
   "source": [
    "!pip install matplotlib"
   ]
  },
  {
   "cell_type": "code",
   "execution_count": 92,
   "id": "a86ecc3c",
   "metadata": {},
   "outputs": [],
   "source": [
    "import matplotlib as mpl\n",
    "import matplotlib.pyplot as plt\n",
    "import numpy as np"
   ]
  },
  {
   "cell_type": "code",
   "execution_count": 93,
   "id": "97e2e66e",
   "metadata": {},
   "outputs": [
    {
     "name": "stdout",
     "output_type": "stream",
     "text": [
      "[ 0.          0.1010101   0.2020202   0.3030303   0.4040404   0.50505051\n",
      "  0.60606061  0.70707071  0.80808081  0.90909091  1.01010101  1.11111111\n",
      "  1.21212121  1.31313131  1.41414141  1.51515152  1.61616162  1.71717172\n",
      "  1.81818182  1.91919192  2.02020202  2.12121212  2.22222222  2.32323232\n",
      "  2.42424242  2.52525253  2.62626263  2.72727273  2.82828283  2.92929293\n",
      "  3.03030303  3.13131313  3.23232323  3.33333333  3.43434343  3.53535354\n",
      "  3.63636364  3.73737374  3.83838384  3.93939394  4.04040404  4.14141414\n",
      "  4.24242424  4.34343434  4.44444444  4.54545455  4.64646465  4.74747475\n",
      "  4.84848485  4.94949495  5.05050505  5.15151515  5.25252525  5.35353535\n",
      "  5.45454545  5.55555556  5.65656566  5.75757576  5.85858586  5.95959596\n",
      "  6.06060606  6.16161616  6.26262626  6.36363636  6.46464646  6.56565657\n",
      "  6.66666667  6.76767677  6.86868687  6.96969697  7.07070707  7.17171717\n",
      "  7.27272727  7.37373737  7.47474747  7.57575758  7.67676768  7.77777778\n",
      "  7.87878788  7.97979798  8.08080808  8.18181818  8.28282828  8.38383838\n",
      "  8.48484848  8.58585859  8.68686869  8.78787879  8.88888889  8.98989899\n",
      "  9.09090909  9.19191919  9.29292929  9.39393939  9.49494949  9.5959596\n",
      "  9.6969697   9.7979798   9.8989899  10.        ]\n",
      "[ 0.          0.10083842  0.20064886  0.2984138   0.39313661  0.48385164\n",
      "  0.56963411  0.64960951  0.72296256  0.78894546  0.84688556  0.8961922\n",
      "  0.93636273  0.96698762  0.98775469  0.99845223  0.99897117  0.98930624\n",
      "  0.96955595  0.93992165  0.90070545  0.85230712  0.79522006  0.73002623\n",
      "  0.65739025  0.57805259  0.49282204  0.40256749  0.30820902  0.21070855\n",
      "  0.11106004  0.01027934 -0.09060615 -0.19056796 -0.28858706 -0.38366419\n",
      " -0.47483011 -0.56115544 -0.64176014 -0.7158225  -0.7825875  -0.84137452\n",
      " -0.89158426 -0.93270486 -0.96431712 -0.98609877 -0.99782778 -0.99938456\n",
      " -0.99075324 -0.97202182 -0.94338126 -0.90512352 -0.85763861 -0.80141062\n",
      " -0.73701276 -0.66510151 -0.58640998 -0.50174037 -0.41195583 -0.31797166\n",
      " -0.22074597 -0.12126992 -0.0205576   0.0803643   0.18046693  0.27872982\n",
      "  0.37415123  0.46575841  0.55261747  0.63384295  0.7086068   0.77614685\n",
      "  0.83577457  0.8868821   0.92894843  0.96154471  0.98433866  0.99709789\n",
      "  0.99969234  0.99209556  0.97438499  0.94674118  0.90944594  0.86287948\n",
      "  0.8075165   0.74392141  0.6727425   0.59470541  0.51060568  0.42130064\n",
      "  0.32770071  0.23076008  0.13146699  0.03083368 -0.07011396 -0.17034683\n",
      " -0.26884313 -0.36459873 -0.45663749 -0.54402111]\n"
     ]
    }
   ],
   "source": [
    "x = np.linspace(0,10,100)\n",
    "print(x)\n",
    "print(np.sin(x))"
   ]
  },
  {
   "cell_type": "code",
   "execution_count": 94,
   "id": "85ccf754",
   "metadata": {},
   "outputs": [
    {
     "data": {
      "image/png": "[encoded data removed]",
      "text/plain": [
       "<Figure size 432x288 with 1 Axes>"
      ]
     },
     "metadata": {
      "needs_background": "light"
     },
     "output_type": "display_data"
    }
   ],
   "source": [
    "fig = plt.figure()\n",
    "plt.plot(x,np.sin(x),\"--\")\n",
    "plt.plot(x,np.cos(x))\n",
    "plt.show()"
   ]
  },
  {
   "cell_type": "code",
   "execution_count": 95,
   "id": "5090a9a0",
   "metadata": {},
   "outputs": [],
   "source": [
    "#fig.savefig(\"sin&cosine.png\")"
   ]
  },
  {
   "cell_type": "code",
   "execution_count": 166,
   "id": "57770a1e",
   "metadata": {},
   "outputs": [
    {
     "data": {
      "image/png": "[encoded data removed]",
      "text/plain": [
       "<Figure size 1080x432 with 4 Axes>"
      ]
     },
     "metadata": {
      "needs_background": "light"
     },
     "output_type": "display_data"
    }
   ],
   "source": [
    "fig1 = plt.figure(figsize = (15,6))\n",
    "\n",
    "plt.subplots_adjust(hspace = 0.5, wspace = 0.5)\n",
    "\n",
    "plt.subplot(2,2,1)\n",
    "plt.plot(x,np.sin(x),\"--\")\n",
    "plt.title(\"Sin(x) graph\", fontweight = \"bold\")\n",
    "plt.xlabel(\"x\")\n",
    "plt.ylabel(\"Sin(x)\")\n",
    "\n",
    "plt.subplot(2,2,2)\n",
    "plt.plot(x,np.sin(2*x),linestyle=\"dashdot\",color=\"red\")\n",
    "plt.title(\"Sin(2x) graph\", fontweight = \"bold\")\n",
    "plt.xlabel(\"x\")\n",
    "plt.ylabel(\"Sin(2x)\")\n",
    "\n",
    "plt.subplot(2,2,3)\n",
    "plt.plot(x,np.cos(2*x), color=\"orange\")\n",
    "plt.title(\"Cos(2x) graph\", fontweight = \"bold\")\n",
    "plt.xlabel(\"x\")\n",
    "plt.ylabel(\"Cos(2x)\")\n",
    "\n",
    "plt.subplot(2,2,4)\n",
    "plt.plot(x,np.cos(x), \":\", color=\"green\")\n",
    "plt.title(\"Cos(x) graph\", fontweight = \"bold\")\n",
    "plt.xlabel(\"x\")\n",
    "plt.ylabel(\"Cos(x)\")\n",
    "\n",
    "plt.suptitle(\"4 Trigometric Graphs\", fontsize = 14, fontweight = \"bold\")\n",
    "\n",
    "plt.show()"
   ]
  },
  {
   "cell_type": "code",
   "execution_count": 97,
   "id": "cd1cbc2f",
   "metadata": {},
   "outputs": [],
   "source": [
    "#fig1.savefig(\"4sin&cosine.png\")"
   ]
  },
  {
   "cell_type": "code",
   "execution_count": 135,
   "id": "ad15123c",
   "metadata": {},
   "outputs": [
    {
     "data": {
      "image/png": "[encoded data removed]",
      "text/plain": [
       "<Figure size 1080x432 with 4 Axes>"
      ]
     },
     "metadata": {
      "needs_background": "light"
     },
     "output_type": "display_data"
    }
   ],
   "source": [
    "fig2 = plt.figure(figsize = (15,6))\n",
    "\n",
    "plt.subplots_adjust(hspace = 0.5, wspace = 0.5)\n",
    "\n",
    "ax1 = plt.subplot(2,2,1)\n",
    "ax1.plot(x,np.sin(x),\"--\")\n",
    "ax1.set_title(\"Sin(x) graph\", fontweight = \"bold\")\n",
    "ax1.set_xlabel(\"x\")\n",
    "ax1.set_ylabel(\"Sin(x)\")\n",
    "\n",
    "ax2 = plt.subplot(2,2,2)\n",
    "ax2.plot(x,np.sin(2*x),linestyle=\"dashdot\",color=\"red\")\n",
    "ax2.set_title(\"Sin(2x) graph\", fontweight = \"bold\")\n",
    "ax2.set_xlabel(\"x\")\n",
    "ax2.set_ylabel(\"Sin(2x)\")\n",
    "\n",
    "ax3 = plt.subplot(2,2,3)\n",
    "ax3.plot(x,np.cos(2*x), color=\"orange\")\n",
    "ax3.set_title(\"Cos(2x) graph\", fontweight = \"bold\")\n",
    "ax3.set_xlabel(\"x\")\n",
    "ax3.set_ylabel(\"Cos(2x)\")\n",
    "\n",
    "ax4 = plt.subplot(2,2,4)\n",
    "ax4.plot(x,np.cos(x), \":\", color=\"green\")\n",
    "ax4.set_title(\"Cos(x) graph\", fontweight = \"bold\")\n",
    "ax4.set_xlabel(\"x\")\n",
    "ax4.set_ylabel(\"Cos(x)\")\n",
    "\n",
    "plt.suptitle(\"4 Trigometric Graphs\", fontsize = 14, fontweight = \"bold\")\n",
    "\n",
    "plt.show()"
   ]
  },
  {
   "cell_type": "code",
   "execution_count": 168,
   "id": "5de564f8",
   "metadata": {},
   "outputs": [
    {
     "data": {
      "image/png": "[encoded data removed]",
      "text/plain": [
       "<Figure size 1080x432 with 4 Axes>"
      ]
     },
     "metadata": {
      "needs_background": "light"
     },
     "output_type": "display_data"
    }
   ],
   "source": [
    "fig3 = plt.figure(figsize = (15,6))\n",
    "\n",
    "plt.subplots_adjust(hspace = 0.5, wspace = 0.5)\n",
    "\n",
    "ax1 = plt.subplot(2,2,1)\n",
    "ax1.plot(x,np.sin(x),\"--\")\n",
    "ax1.plot(x,np.zeros(len(x)),\"-\")\n",
    "ax1.set(xlabel = \"x\", ylabel = \"Sin(x)\", title=\"Sin(x) graph\", ylim=(-1.5,1.5))\n",
    "ax1.text(4,-1.2,\"Minimum\")\n",
    "ax1.text(1,1.2,\"Maximum 1\")\n",
    "ax1.text(7.5,1.2,\"Maximum 2\")\n",
    "\n",
    "ax2 = plt.subplot(2,2,2)\n",
    "ax2.plot(x,np.sin(2*x),linestyle=\"dashdot\",color=\"red\")\n",
    "ax2.set(xlabel = \"x\", ylabel = \"Sin(2x)\", title=\"Sin(2x) graph\", ylim=(-1.5,1.5))\n",
    "\n",
    "ax3 = plt.subplot(2,2,3)\n",
    "ax3.plot(x,np.cos(2*x), color=\"orange\")\n",
    "ax3.set(xlabel = \"x\", ylabel = \"Cos(2x)\", title=\"Cos(2x) graph\",ylim=(-1.5,1.5))\n",
    "\n",
    "ax4 = plt.subplot(2,2,4)\n",
    "ax4.plot(x,np.cos(x), \":\", color=\"green\")\n",
    "ax4.set(xlabel = \"x\", ylabel = \"Cos(x)\", title=\"Cos(x) graph\", ylim=(-1.5,1.5))\n",
    "ax4.annotate(\"Maximum\", xy=(6.2,1), xytext = (8,1.2), arrowprops=dict(facecolor='black', shrink=0.05))\n",
    "\n",
    "plt.suptitle(\"4 Trigometric Graphs\", fontsize = 14, fontweight = \"bold\")\n",
    "\n",
    "plt.show()"
   ]
  },
  {
   "cell_type": "code",
   "execution_count": null,
   "id": "b7fcbe11",
   "metadata": {},
   "outputs": [],
   "source": []
  }
 ],
 "metadata": {
  "kernelspec": {
   "display_name": "Python 3",
   "language": "python",
   "name": "python3"
  },
  "language_info": {
   "codemirror_mode": {
    "name": "ipython",
    "version": 3
   },
   "file_extension": ".py",
   "mimetype": "text/x-python",
   "name": "python",
   "nbconvert_exporter": "python",
   "pygments_lexer": "ipython3",
   "version": "3.8.10"
  }
 },
 "nbformat": 4,
 "nbformat_minor": 5
}
